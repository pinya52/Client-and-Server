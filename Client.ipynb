{
 "cells": [
  {
   "cell_type": "code",
   "execution_count": 1,
   "metadata": {},
   "outputs": [],
   "source": [
    "import socket\n",
    "import threading\n",
    "import struct\n",
    "import random"
   ]
  },
  {
   "cell_type": "code",
   "execution_count": 2,
   "metadata": {},
   "outputs": [],
   "source": [
    "c = socket.socket(socket.AF_INET, socket.SOCK_STREAM)"
   ]
  },
  {
   "cell_type": "code",
   "execution_count": 3,
   "metadata": {},
   "outputs": [],
   "source": [
    "pars = ('127.0.0.1', 80) # server IP and server port\n",
    "c.connect(pars)"
   ]
  },
  {
   "cell_type": "code",
   "execution_count": 4,
   "metadata": {},
   "outputs": [
    {
     "name": "stdout",
     "output_type": "stream",
     "text": [
      "Data sent by Client:  (8, 255, 0, 13766, 1, 106306056)\n",
      "From server: (0, 255, 0, 13766, 1, 106306056)\n"
     ]
    }
   ],
   "source": [
    "while True:\n",
    "    \n",
    "    type_value = 8\n",
    "    code_value = 255\n",
    "    unused_value = 0\n",
    "    identifier = random.randint(0, 2**16-1)\n",
    "    sequence_value = 1\n",
    "    message_value = 106306056\n",
    "    \n",
    "    # let the client talk firt\n",
    "    send_data_1 = struct.pack(\"!BBHHHI\", type_value, code_value, \n",
    "                              unused_value,  identifier, \n",
    "                              sequence_value, message_value)\n",
    "    c.send(send_data_1)\n",
    "    print('Data sent by Client: ', struct.unpack(\"!BBHHHI\", send_data_1))\n",
    "    \n",
    "    # then wait for server response\n",
    "    data_recv = c.recv(12)\n",
    "    unpacked_data = struct.unpack(\"!BBHHHI\", data_recv)\n",
    "    if unpacked_data:\n",
    "        print(\"From server:\", unpacked_data)\n",
    "\n",
    "    # terminate\n",
    "    #c.send(b'close')\n",
    "    break\n",
    "    \n",
    "# close directly\n",
    "c.close()"
   ]
  },
  {
   "cell_type": "code",
   "execution_count": null,
   "metadata": {},
   "outputs": [],
   "source": []
  }
 ],
 "metadata": {
  "kernelspec": {
   "display_name": "Python 3",
   "language": "python",
   "name": "python3"
  },
  "language_info": {
   "codemirror_mode": {
    "name": "ipython",
    "version": 3
   },
   "file_extension": ".py",
   "mimetype": "text/x-python",
   "name": "python",
   "nbconvert_exporter": "python",
   "pygments_lexer": "ipython3",
   "version": "3.7.3"
  }
 },
 "nbformat": 4,
 "nbformat_minor": 2
}
